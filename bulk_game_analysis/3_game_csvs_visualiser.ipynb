{
 "cells": [
  {
   "cell_type": "code",
   "execution_count": 1,
   "metadata": {
    "collapsed": true,
    "pycharm": {
     "is_executing": false
    }
   },
   "outputs": [],
   "source": [
    "from collections import defaultdict\n",
    "from pathlib import Path\n",
    "import pandas as pd\n",
    "import matplotlib.pyplot as plt\n",
    "import seaborn as sns\n"
   ]
  },
  {
   "cell_type": "code",
   "execution_count": 2,
   "outputs": [
    {
     "name": "stdout",
     "text": [
      "Found 107 csvs.\n"
     ],
     "output_type": "stream"
    }
   ],
   "source": [
    "\n",
    "game_csvs_folderpath = Path('game_csvs_na')\n",
    "game_csvs_filepaths = list(game_csvs_folderpath.glob(\"*.csv\"))\n",
    "\n",
    "print(f\"Found {len(game_csvs_filepaths)} csvs.\")\n"
   ],
   "metadata": {
    "collapsed": false,
    "pycharm": {
     "name": "#%%\n",
     "is_executing": false
    }
   }
  },
  {
   "cell_type": "code",
   "execution_count": 3,
   "outputs": [
    {
     "name": "stdout",
     "text": [
      "                                            Allushin           Fireburner  \\\ngoals                                              0                    1   \nassists                                            0                    0   \nshots                                              4                    1   \nsaves                                              1                    1   \ndemos                                              0                    4   \nkickoff_goals                                      0                    0   \npossession_duration                47.53009700557649   37.189610191317826   \nboost_used                        2204.4734921863856   2587.7300036601396   \nboost_per_minute                   420.0442592779991    493.0706295410405   \nwasted_usage_percentage           0.1318221288220894  0.14013060779515585   \nnum_large_boosts                  20.006884809690835   21.912302410613773   \nnum_small_boosts                   86.69650084199361    91.46004484430097   \nboost_ratio                        4.333333333333333    4.173913043478261   \nstolen_boosts                     3.8108352018458733   3.8108352018458733   \ntime_full_boost                   17.904739150609863   13.690898720611631   \ntime_low_boost                     89.12070687922741    84.53440747606598   \ntime_no_boost                     33.805425916191396   26.891610911725575   \naverage_boost_level               49.805480358647365    48.46681183459712   \naverage_speed                       1596.64150390625        1627.03359375   \ntime_high_in_air                   12.97805797631951    9.228203529860536   \ntime_in_air                        110.2057881755138   123.07175902235703   \ntime_on_ground                    181.25218057739363   166.40057323018524   \ntime_at_slow_speed                14.063007892817934    23.69595111843268   \ntime_at_boost_speed                172.1823160406762   195.78568529441864   \ntime_at_super_sonic                56.66909970646521    61.40726178791065   \ntime_in_attacking_half             110.1433555190123   102.51802901389057   \ntime_in_defending_half            189.85665174957902   197.48198552329205   \ntime_in_attacking_third            62.03177915344752    58.60611023952625   \ntime_in_neutral_third              98.06228077928603   110.70177958374813   \ntime_in_defending_third           139.90594733585777    130.6921210796126   \n...                                              ...                  ...   \nball_hit_forward_per_hit          1672.2961587344898    1657.494765962873   \ntime_close_to_ball                19.415335957197883    12.75536105855112   \ntime_closest_to_ball                 46.988728013965   42.259179213224414   \ntime_behind_center_of_mass        147.38374324311752   142.13459919243044   \ntime_in_front_of_center_of_mass   152.61627129406511    157.8654153447522   \ntime_most_back_player              99.39488977326647    98.67071275224919   \ntime_between_players               94.90032726105524    88.34429776104128   \ntime_most_forward_player          105.70478296567829   112.98498948670952   \ncount_of_possessions              18.101467208767897   12.385214405999088   \naverage_duration_of_possessions    2.262709379196167   2.7459371089935303   \nhits_per_possession               1.5263158082962036   1.1538461446762085   \nshots_per_possession             0.10526315867900848  0.07692307978868484   \ngoals_per_possession                             0.0  0.07692307978868484   \nsaves_per_possession                             0.0   0.1538461595773697   \npasses_per_possession            0.21052631735801697  0.23076923191547394   \naerials_per_possession            0.5263158082962036  0.38461539149284363   \nhits                              32.392099215689925   20.006884809690835   \naerials                           10.479796805076152    4.763544002307341   \naerial_efficiency                0.09509297994753253  0.03870541901852564   \npasses                             4.763544002307341    2.858126401384405   \ndribbles                           7.621670403691747   1.9054176009229367   \nhit_goals                                        0.0                  0.0   \nhit_shots                          2.858126401384405                  0.0   \nhit_saves                         0.9527088004614683    2.858126401384405   \nturnovers                           5.71625280276881    7.621670403691747   \nturnovers_attacking_half          1.9054176009229367    2.858126401384405   \nturnovers_defending_half           2.858126401384405   0.9527088004614683   \ntakeaways                          7.621670403691747   3.8108352018458733   \nis_keyboard                                    False                False   \npossession_percentage             14.945687858623208   11.694154662425712   \n\n                                            GarrettG             Lethamyr  \\\ngoals                                              1                    1   \nassists                                            2                    0   \nshots                                              3                    4   \nsaves                                              2                    0   \ndemos                                              2                    0   \nkickoff_goals                                      0                    0   \npossession_duration                41.26263995753356    46.19606933900681   \nboost_used                        2431.3722303689756    2310.133771334605   \nboost_per_minute                   467.8880048261989   440.17695483874394   \nwasted_usage_percentage          0.16951999104963045  0.10320584655394152   \nnum_large_boosts                  22.130350870564687   20.959593610152304   \nnum_small_boosts                   96.21891682854212    76.21670403691746   \nboost_ratio                       4.3478260869565215   3.6363636363636362   \nstolen_boosts                      5.773135009712528   1.9054176009229367   \ntime_full_boost                    34.22764875592926   16.186800325400295   \ntime_low_boost                     56.13511458981577   134.51919431444972   \ntime_no_boost                     13.048985866476285    42.25318989398323   \naverage_boost_level                54.58790498621323    39.69368429744945   \naverage_speed                          1637.42734375       1556.990234375   \ntime_high_in_air                   9.219829451813315   15.507445072709173   \ntime_in_air                       106.53866580428792   112.69547422615669   \ntime_on_ground                     180.3367221633752   172.31882018551772   \ntime_at_slow_speed                18.334434145186968   19.529391057771928   \ntime_at_boost_speed               192.37555328519906   176.49904519784525   \ntime_at_super_sonic                 68.4470242941411   30.541824782756343   \ntime_in_attacking_half            126.81950104838135    90.97836983522976   \ntime_in_defending_half            173.18051363346018   209.02164470195288   \ntime_in_attacking_third           63.486338350673236    54.81985741349795   \ntime_in_neutral_third             117.85145049743058    89.73168285914981   \ntime_in_defending_third           118.66221115189617    155.4484778988305   \n...                                              ...                  ...   \nball_hit_forward_per_hit          1908.4519869995117   1317.0389566750362   \ntime_close_to_ball                16.508075453311644    19.38057755354335   \ntime_closest_to_ball               41.83423378698919    50.63208760338844   \ntime_behind_center_of_mass        140.67131937488242   165.97579675390526   \ntime_in_front_of_center_of_mass   159.32868062511758   134.02421778327735   \ntime_most_back_player              82.28057840974513   119.92070839109441   \ntime_between_players              103.23525145394277    87.15108581124457   \ntime_most_forward_player          114.48417013631209    92.92820579766102   \ncount_of_possessions               16.35721586085216    17.14875840830643   \naverage_duration_of_possessions   2.2180089950561523    2.369502305984497   \nhits_per_possession               1.2352941036224365   1.3333333730697632   \nshots_per_possession             0.11764705926179886   0.2222222238779068   \ngoals_per_possession             0.05882352963089943   0.0555555559694767   \nsaves_per_possession             0.11764705926179886                  0.0   \npasses_per_possession            0.23529411852359772   0.1111111119389534   \naerials_per_possession            0.5882353186607361   0.5555555820465088   \nhits                               24.05472920713553   27.628555213382583   \naerials                            9.621891682854212   10.479796805076152   \naerial_efficiency                 0.0903136115908348  0.09299217095484553   \npasses                             2.886567504856264   1.9054176009229367   \ndribbles                           3.848756673141685    4.763544002307341   \nhit_goals                                        0.0                  0.0   \nhit_shots                         1.9243783365708425    2.858126401384405   \nhit_saves                         1.9243783365708425                  0.0   \nturnovers                          4.810945841427106     5.71625280276881   \nturnovers_attacking_half           2.886567504856264    2.858126401384405   \nturnovers_defending_half          0.9621891682854212   1.9054176009229367   \ntakeaways                          5.773135009712528    4.763544002307341   \nis_keyboard                                    False                False   \npossession_percentage             13.104018699047081   14.526207101052298   \n\n                                              Memory               justin  \ngoals                                              0                    1  \nassists                                            0                    0  \nshots                                              1                    2  \nsaves                                              2                    3  \ndemos                                              4                    0  \nkickoff_goals                                      0                    0  \npossession_duration                73.70930678164504       68.84823723936  \nboost_used                        3170.7611871642625    2408.557945806459  \nboost_per_minute                   622.2983477530333   463.32770143106836  \nwasted_usage_percentage            0.162578911163038  0.10607371129293597  \nnum_large_boosts                   35.32707005781293   21.160399003957753  \nnum_small_boosts                   89.29898264613824    88.48894128927788  \nboost_ratio                       2.5277777777777777    4.181818181818182  \nstolen_boosts                      9.813075016059148     4.80918159180858  \ntime_full_boost                   12.861119942741091    23.40559980235704  \ntime_low_boost                    101.12741704520668    93.65764472210128  \ntime_no_boost                      42.09738581534301    19.27150039871043  \naverage_boost_level                 46.5508165546492    48.00983802945006  \naverage_speed                          1639.68828125     1538.36650390625  \ntime_high_in_air                  23.410920519822252    31.12893145605135  \ntime_in_air                       134.52744928828153   121.81218659648059  \ntime_on_ground                     151.6331666442895    169.2652427241462  \ntime_at_slow_speed                 21.08177886940606   21.843633964257936  \ntime_at_boost_speed                194.6525459301603   179.01953925707772  \ntime_at_super_sonic                67.08977300575833    34.73147708760378  \ntime_in_attacking_half            111.44598461416369    88.18323801789549  \ntime_in_defending_half            188.55400789905423   211.81675464387578  \ntime_in_attacking_third             59.7948022765807   52.648144161949816  \ntime_in_neutral_third             100.90577086154394    84.44355189839978  \ntime_in_defending_third           139.29942686187536   162.90829660142165  \n...                                              ...                  ...  \nball_hit_forward_per_hit           2057.020009865632   2322.3747432470323  \ntime_close_to_ball                 23.17284084948024   24.548400510740723  \ntime_closest_to_ball              63.998802613985006    57.10623553757418  \ntime_behind_center_of_mass        150.59106647214344   195.19405212099272  \ntime_in_front_of_center_of_mass   149.40893352785656   104.80594787900729  \ntime_most_back_player              83.10641811881123   121.00775161563337  \ntime_between_players              112.48369004522515   104.62770230273618  \ntime_most_forward_player           104.4098918359636    74.36454608163046  \ncount_of_possessions              25.513995041753784   27.893253232489766  \naverage_duration_of_possessions   2.6891932487487793   2.3814427852630615  \nhits_per_possession                1.307692289352417   1.2413792610168457  \nshots_per_possession             0.03846153989434242   0.1034482792019844  \ngoals_per_possession                             0.0                  0.0  \nsaves_per_possession             0.11538461595773697   0.1034482792019844  \npasses_per_possession            0.26923078298568726  0.13793103396892548  \naerials_per_possession                           0.5   0.7241379022598267  \nhits                              36.308377559418844    38.47345273446864  \naerials                            14.71961252408872   20.198562685596038  \naerial_efficiency                0.10941716803494707   0.1658172572872903  \npasses                             6.869152511241403    3.847345273446864  \ndribbles                           5.887845009635488    5.771017910170296  \nhit_goals                                        0.0                  0.0  \nhit_shots                         1.9626150032118295    1.923672636723432  \nhit_saves                          2.943922504817744    2.885508955085148  \nturnovers                          6.869152511241403     9.61836318361716  \nturnovers_attacking_half           2.943922504817744    3.847345273446864  \nturnovers_defending_half          1.9626150032118295     4.80918159180858  \ntakeaways                          9.813075016059148    8.656526865255444  \nis_keyboard                                    False                False  \npossession_percentage             23.873411050426665    21.85652062842503  \n\n[63 rows x 6 columns]\n"
     ],
     "output_type": "stream"
    }
   ],
   "source": [
    "game_dfs = [\n",
    "    pd.read_csv(filepath, index_col=0)\n",
    "    for filepath in game_csvs_filepaths\n",
    "]\n",
    "\n",
    "print(game_dfs[0])"
   ],
   "metadata": {
    "collapsed": false,
    "pycharm": {
     "name": "#%%\n",
     "is_executing": false
    }
   }
  },
  {
   "cell_type": "code",
   "execution_count": 10,
   "outputs": [
    {
     "name": "stdout",
     "text": [
      "Found 24 players.\n['Allushin', 'AxB', 'AyyJayy', 'Chicago', 'CorruptedG', 'Drippay', 'DudeWithTheNose', 'Fireburner', 'GarrettG', 'Gimmick', 'JKnaps', 'JWismont', 'KLASSUX', 'Karma', 'Kronovi ^-^', 'Lethamyr', 'Memory', 'Rizzo', 'Satthew', 'Squishy', 'Sypical', 'Torment', 'Wonder', 'jstn.']\n"
     ],
     "output_type": "stream"
    }
   ],
   "source": [
    "player_names = set()\n",
    "for df in game_dfs:\n",
    "    player_names.update(df.columns)\n",
    "    \n",
    "player_names = sorted(list(player_names))\n",
    "print(f\"Found {len(player_names)} players.\")\n",
    "print(player_names)"
   ],
   "metadata": {
    "collapsed": false,
    "pycharm": {
     "name": "#%%\n",
     "is_executing": false
    }
   }
  },
  {
   "cell_type": "code",
   "execution_count": 9,
   "outputs": [],
   "source": [
    "player_names_transform = {\n",
    "    'Tad': 'Tadpole',\n",
    "    'gimmick': 'Gimmick',\n",
    "    'justin': 'jstn.',\n",
    "    'JWis': 'JWismont',\n",
    "    'klassux': 'KLASSUX',\n",
    "    'Nose God': 'DudeWithTheNose'\n",
    "}\n",
    "\n",
    "for df in game_dfs:\n",
    "    df.columns = [player_names_transform.get(name, name) for name in  df.columns]\n"
   ],
   "metadata": {
    "collapsed": false,
    "pycharm": {
     "name": "#%%\n",
     "is_executing": false
    }
   }
  },
  {
   "cell_type": "code",
   "execution_count": 11,
   "outputs": [],
   "source": [
    "player_stats = defaultdict(lambda: defaultdict(list))  # stat: {player : [stats]}\n",
    "\n",
    "for df in game_dfs:\n",
    "    for stat in df.iterrows():\n",
    "        stat_dict = player_stats[stat[0]]\n",
    "        for player, stat_value in stat[1].iteritems():\n",
    "            if stat_value == \"False\":\n",
    "                value = False\n",
    "            elif stat_value == \"True\":\n",
    "                value = True\n",
    "            else:\n",
    "                value = float(stat_value)\n",
    "            stat_dict[player].append(value)\n"
   ],
   "metadata": {
    "collapsed": false,
    "pycharm": {
     "name": "#%%\n",
     "is_executing": false
    }
   }
  },
  {
   "cell_type": "code",
   "execution_count": 12,
   "outputs": [
    {
     "name": "stdout",
     "text": [
      "goals\n",
      "assists\n",
      "shots\n",
      "saves\n",
      "demos\n",
      "kickoff_goals\n",
      "possession_duration\n",
      "boost_used\n",
      "boost_per_minute\n",
      "wasted_usage_percentage\n",
      "num_large_boosts\n",
      "num_small_boosts\n",
      "boost_ratio\n",
      "stolen_boosts\n",
      "time_full_boost\n",
      "time_low_boost\n",
      "time_no_boost\n",
      "average_boost_level\n",
      "average_speed\n",
      "time_high_in_air\n",
      "time_in_air\n",
      "time_on_ground\n",
      "time_at_slow_speed\n",
      "time_at_boost_speed\n",
      "time_at_super_sonic\n",
      "time_in_attacking_half\n",
      "time_in_defending_half\n",
      "time_in_attacking_third\n",
      "time_in_neutral_third\n",
      "time_in_defending_third\n",
      "time_on_wall\n",
      "average_hit_distance\n",
      "ball_hit_forward\n",
      "ball_hit_forward_per_hit\n",
      "time_close_to_ball\n",
      "time_closest_to_ball\n",
      "time_behind_center_of_mass\n",
      "time_in_front_of_center_of_mass\n",
      "time_most_back_player\n",
      "time_between_players\n",
      "time_most_forward_player\n",
      "count_of_possessions\n",
      "average_duration_of_possessions\n",
      "hits_per_possession\n",
      "shots_per_possession\n",
      "goals_per_possession\n",
      "saves_per_possession\n",
      "passes_per_possession\n",
      "aerials_per_possession\n",
      "hits\n",
      "aerials\n",
      "aerial_efficiency\n",
      "passes\n",
      "dribbles\n",
      "hit_goals\n",
      "hit_shots\n",
      "hit_saves\n",
      "turnovers\n",
      "turnovers_attacking_half\n",
      "turnovers_defending_half\n",
      "takeaways\n",
      "is_keyboard\n",
      "possession_percentage\n"
     ],
     "output_type": "stream"
    }
   ],
   "source": [
    "for stat in player_stats.keys():\n",
    "    # stat = 'average_boost_level'\n",
    "    stats = player_stats[stat]\n",
    "    print(stat)\n",
    "    \n",
    "    # values = []\n",
    "    # for player_values in stats.values():\n",
    "    #     values.extend(player_values)\n",
    "    # plt.violinplot(values)\n",
    "    \n",
    "    \n",
    "    players = list(stats.keys())\n",
    "    data = list(stats.values())\n",
    "    player_averages = [-sum(_data) / len(_data) for _data in data]\n",
    "    \n",
    "    players = [x for _, x in sorted(zip(player_averages, players))]\n",
    "    data = [x for _, x in sorted(zip(player_averages, data))]\n",
    "    \n",
    "    fig = plt.figure(figsize=(10, 7))\n",
    "    ax = sns.violinplot(data=data, inner='points', orient='h', fig=fig)\n",
    "    sns.despine()\n",
    "    ax.set_yticklabels(players)\n",
    "    stat_name = stat.replace(\"_\", \" \").title()\n",
    "    ax.set(xlabel=stat_name)\n",
    "    plt.tight_layout()\n",
    "    fig.savefig(f\"stat_distributions/{stat}.png\", dpi=300)\n",
    "    plt.close()\n",
    "\n",
    "\n"
   ],
   "metadata": {
    "collapsed": false,
    "pycharm": {
     "name": "#%%\n",
     "is_executing": false
    }
   }
  }
 ],
 "metadata": {
  "language_info": {
   "codemirror_mode": {
    "name": "ipython",
    "version": 2
   },
   "file_extension": ".py",
   "mimetype": "text/x-python",
   "name": "python",
   "nbconvert_exporter": "python",
   "pygments_lexer": "ipython2",
   "version": "2.7.6"
  },
  "kernelspec": {
   "name": "python3",
   "language": "python",
   "display_name": "Python 3"
  },
  "pycharm": {
   "stem_cell": {
    "cell_type": "raw",
    "source": [],
    "metadata": {
     "collapsed": false
    }
   }
  }
 },
 "nbformat": 4,
 "nbformat_minor": 0
}